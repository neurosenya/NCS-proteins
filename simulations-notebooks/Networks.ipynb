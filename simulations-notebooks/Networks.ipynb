{
 "cells": [
  {
   "cell_type": "code",
   "execution_count": 1,
   "metadata": {},
   "outputs": [],
   "source": [
    "from neuron import h, gui\n",
    "from neuron.units import ms, mV"
   ]
  },
  {
   "cell_type": "code",
   "execution_count": 2,
   "metadata": {},
   "outputs": [
    {
     "data": {
      "text/plain": [
       "1.0"
      ]
     },
     "execution_count": 2,
     "metadata": {},
     "output_type": "execute_result"
    }
   ],
   "source": [
    "h.load_file('stdrun.hoc')"
   ]
  },
  {
   "cell_type": "code",
   "execution_count": 3,
   "metadata": {},
   "outputs": [],
   "source": [
    "class Cell:\n",
    "    \n",
    "    def __init__(self, gid, x, y, z, theta):\n",
    "        self._gid = gid\n",
    "        self._setup_morphology()\n",
    "        self.all = self.soma.wholetree()\n",
    "        self._setup_biophysics()\n",
    "        self.x = self.y = self.z = 0                  \n",
    "        h.define_shape()\n",
    "        self._rotate_z(theta)                                \n",
    "        self._set_position(x, y, z)    \n",
    "\n",
    "        # make cell record its spike times\n",
    "        self._spike_detector = h.NetCon(self.soma(0.5)._ref_v, None,\n",
    "                                        sec=self.soma)\n",
    "        self.spike_times = h.Vector()\n",
    "        self._spike_detector.record(self.spike_times)\n",
    "        \n",
    "        # Keep track of NetCon's attched to the cell\n",
    "        self._ncs = []\n",
    "        \n",
    "        # vector for tracking membrane potential \n",
    "        self.soma_v = h.Vector().record(self.soma(0.5)._ref_v)\n",
    "        \n",
    "        \n",
    "    def __repr__(self):\n",
    "        return '{}[{}]'.format(self.name, self._gid)\n",
    "    \n",
    "    def _set_position(self, x, y, z):\n",
    "        for sec in self.all:\n",
    "            for i in range(sec.n3d()):\n",
    "                sec.pt3dchange(i,\n",
    "                               x - self.x + sec.x3d(i),\n",
    "                               y - self.y + sec.y3d(i),\n",
    "                               z - self.z + sec.z3d(i),\n",
    "                              sec.diam3d(i))\n",
    "        self.x, self.y, self.z = x, y, z\n",
    "    def _rotate_z(self, theta):\n",
    "        \"\"\"Rotate the cell about the Z axis.\"\"\"\n",
    "        for sec in self.all:\n",
    "            for i in range(sec.n3d()):\n",
    "                x = sec.x3d(i)\n",
    "                y = sec.y3d(i)\n",
    "                c = h.cos(theta)\n",
    "                s = h.sin(theta)\n",
    "                xprime = x * c - y * s\n",
    "                yprime = x * s + y * c\n",
    "                sec.pt3dchange(i, xprime, yprime,\n",
    "                               sec.z3d(i), sec.diam3d(i))"
   ]
  },
  {
   "cell_type": "code",
   "execution_count": 4,
   "metadata": {},
   "outputs": [],
   "source": [
    "class BallAndStick(Cell):\n",
    "    \n",
    "    \n",
    "    name = 'BallAndStick'\n",
    "    \n",
    "    def _setup_morphology(self):\n",
    "        self.soma = h.Section(name='soma', cell=self)\n",
    "        self.dend = h.Section(name='dend', cell=self)\n",
    "        self.dend.connect(self.soma)\n",
    "        self.soma.L = self.soma.diam = 12.6157\n",
    "        self.dend.L = 200\n",
    "        self.dend.diam = 1\n",
    "        \n",
    "    def _setup_biophysics(self):\n",
    "        for sec in self.all:\n",
    "            sec.Ra = 100    # Axial resistance in Ohm * cm\n",
    "            sec.cm = 1      # Membrane capacitance in micro Farads / cm^2\n",
    "        self.soma.insert('hh')                                          \n",
    "        for seg in self.soma:\n",
    "            seg.hh.gnabar = 0.12  # Sodium conductance in S/cm2\n",
    "            seg.hh.gkbar = 0.036  # Potassium conductance in S/cm2\n",
    "            seg.hh.gl = 0.0003    # Leak conductance in S/cm2\n",
    "            seg.hh.el = -54.3     # Reversal potential in mV\n",
    "        # Insert passive current in the dendrite\n",
    "        self.dend.insert('pas')                 \n",
    "        for seg in self.dend:\n",
    "            seg.pas.g = 0.001  # Passive conductance in S/cm2\n",
    "            seg.pas.e = -65    # Leak reversal potential mV\n",
    "            \n",
    "        # Create a synapse on the dendrite\n",
    "        self.syn = h.ExpSyn(self.dend(0.5))\n",
    "        self.syn.tau = 2 * ms"
   ]
  },
  {
   "cell_type": "code",
   "execution_count": 5,
   "metadata": {},
   "outputs": [],
   "source": [
    "mycell = BallAndStick(0, 0, 0, 0, 0)\n",
    "del mycell"
   ]
  },
  {
   "cell_type": "markdown",
   "metadata": {},
   "source": [
    "## Conctruct and position our cells"
   ]
  },
  {
   "cell_type": "code",
   "execution_count": 6,
   "metadata": {},
   "outputs": [],
   "source": [
    "def create_n_BallAndStick(n, r):\n",
    "    \"\"\"n = number of cells; r = radius of circle\"\"\"\n",
    "    cells = []\n",
    "    for i in range(n):\n",
    "        theta = i * 2 * h.PI / n\n",
    "        cells.append(BallAndStick(i, h.cos(theta) * r, h.sin(theta) * r, 0, theta))\n",
    "    return cells    "
   ]
  },
  {
   "cell_type": "code",
   "execution_count": 7,
   "metadata": {},
   "outputs": [],
   "source": [
    "my_cells = create_n_BallAndStick(5, 50)"
   ]
  },
  {
   "cell_type": "code",
   "execution_count": 8,
   "metadata": {},
   "outputs": [
    {
     "data": {
      "text/plain": [
       "1.0"
      ]
     },
     "execution_count": 8,
     "metadata": {},
     "output_type": "execute_result"
    }
   ],
   "source": [
    "ps = h.PlotShape(True)\n",
    "ps.show(0)"
   ]
  },
  {
   "cell_type": "markdown",
   "metadata": {},
   "source": [
    "## A first synapse, and input via a NetStim"
   ]
  },
  {
   "cell_type": "markdown",
   "metadata": {},
   "source": [
    "Let's now stimulate a cell and see that it responds appropriately.\n",
    "Instead of stimulating with a current electrode as we did before, let's assign a virtual synapse so that we get acquainted with driving the cells through synaptic events. <br>\n",
    "\n",
    "Event-based communication between objects in NEUROn takes place via network connection objects called NetCons. Each NetCon has a source and target, where the source is typically a spike threshold\n",
    "detector. When a spike is detected, the NetCon sends a message to a target, usually a synapse on a postsynaptic cell. <br>\n",
    "\n",
    "A NetStim is a spike generator that can be used as the source in a \n",
    "NetCon, behaving as external input onto the synapse of a target cell. The following code makes a NetStim object that generates one \n",
    "spike at time t=9. The NetCon then adds another ms delay to deliver a synaptic event at time t=10 onto the first cell.  <br>\n",
    "\n",
    "The code below makes a stimulator and attaches it to a synapse object (ExpSyn) that behaves much like an AMPA synase - it conducts current as a decaying exponential function. "
   ]
  },
  {
   "cell_type": "code",
   "execution_count": 9,
   "metadata": {},
   "outputs": [],
   "source": [
    "stim = h.NetStim() # Make a new stimulator\n",
    "\n",
    "# Attach it to a synapse in the middle of the dendrite\n",
    "# of the first cell in the network. (Named 'syn_' to avoid\n",
    "# being overwritten with the 'syn' var assigned later.)\n",
    "syn_ = h.ExpSyn(my_cells[0].dend(0.5))\n",
    "\n",
    "stim.number = 1\n",
    "stim.start = 9\n",
    "ncstim = h.NetCon(stim, syn_)\n",
    "ncstim.delay = 1 * ms\n",
    "ncstim.weight[0] = 0.04 # NetCon weight is a vector."
   ]
  },
  {
   "cell_type": "code",
   "execution_count": 10,
   "metadata": {},
   "outputs": [],
   "source": [
    "syn_.tau = 2 * ms"
   ]
  },
  {
   "cell_type": "markdown",
   "metadata": {},
   "source": [
    "# Running and Plotting the Simulation"
   ]
  },
  {
   "cell_type": "markdown",
   "metadata": {},
   "source": [
    "Right now, there are no synapses between cells, but let's confirm \n",
    "that the first cell works correctly."
   ]
  },
  {
   "cell_type": "code",
   "execution_count": 11,
   "metadata": {},
   "outputs": [],
   "source": [
    "recording_cell = my_cells[0]\n",
    "soma_v = h.Vector().record(recording_cell.soma(0.5)._ref_v)\n",
    "dend_v = h.Vector().record(recording_cell.dend(0.5)._ref_v)\n",
    "t = h.Vector().record(h._ref_t)"
   ]
  },
  {
   "cell_type": "code",
   "execution_count": 12,
   "metadata": {},
   "outputs": [
    {
     "data": {
      "text/plain": [
       "0.0"
      ]
     },
     "execution_count": 12,
     "metadata": {},
     "output_type": "execute_result"
    }
   ],
   "source": [
    "h.finitialize(-65 * mV)\n",
    "h.continuerun(25 * ms)"
   ]
  },
  {
   "cell_type": "code",
   "execution_count": 13,
   "metadata": {},
   "outputs": [],
   "source": [
    "%matplotlib inline"
   ]
  },
  {
   "cell_type": "code",
   "execution_count": 14,
   "metadata": {},
   "outputs": [
    {
     "data": {
      "image/png": "[encoded data removed]",
      "text/plain": [
       "<Figure size 432x288 with 1 Axes>"
      ]
     },
     "metadata": {
      "needs_background": "light"
     },
     "output_type": "display_data"
    }
   ],
   "source": [
    "import matplotlib.pyplot as plt\n",
    "plt.plot(t, soma_v, label='soma(0.5)')\n",
    "plt.plot(t, dend_v, label='dend(0.5)')\n",
    "plt.legend()\n",
    "plt.show()"
   ]
  },
  {
   "cell_type": "markdown",
   "metadata": {},
   "source": [
    "## Recording synaptic conductance"
   ]
  },
  {
   "cell_type": "code",
   "execution_count": 15,
   "metadata": {},
   "outputs": [],
   "source": [
    "syn_i = h.Vector().record(syn_._ref_i)"
   ]
  },
  {
   "cell_type": "code",
   "execution_count": 16,
   "metadata": {},
   "outputs": [
    {
     "data": {
      "text/plain": [
       "0.0"
      ]
     },
     "execution_count": 16,
     "metadata": {},
     "output_type": "execute_result"
    }
   ],
   "source": [
    "h.finitialize(-65 * mV)\n",
    "h.continuerun(25 * ms)"
   ]
  },
  {
   "cell_type": "code",
   "execution_count": 17,
   "metadata": {},
   "outputs": [
    {
     "data": {
      "image/png": "[encoded data removed]",
      "text/plain": [
       "<Figure size 576x288 with 2 Axes>"
      ]
     },
     "metadata": {
      "needs_background": "light"
     },
     "output_type": "display_data"
    }
   ],
   "source": [
    "fig = plt.figure(figsize=(8,4))\n",
    "ax1 = fig.add_subplot(2, 1, 1)\n",
    "soma_plot = ax1.plot(t, soma_v, color='black', label='soma(0.5)')\n",
    "dend_plot = ax1.plot(t, dend_v, color='red', label='dend(0.5)')\n",
    "rev_plot = ax1.plot([t[0], t[-1]], [syn_.e, syn_.e], label='syn reversal',\n",
    "        color='blue', linestyle=':')\n",
    "ax1.legend()\n",
    "ax1.set_ylabel('mV')\n",
    "ax1.set_xticks([]) # Use ax2's tick labels\n",
    "\n",
    "ax2 = fig.add_subplot(2, 1, 2)\n",
    "syn_plot = ax2.plot(t, syn_i, color='blue', label='synaptic current')\n",
    "ax2.legend()\n",
    "ax2.set_ylabel(h.units('ExpSyn.i'))\n",
    "ax2.set_xlabel('time (ms)')\n",
    "plt.show()"
   ]
  },
  {
   "cell_type": "markdown",
   "metadata": {},
   "source": [
    "## Connecting the cells"
   ]
  },
  {
   "cell_type": "markdown",
   "metadata": {},
   "source": [
    "For this particular model, the particular dynamics of the axons do not need to be explicitly modeled. When the soma fires an action potential, we assume the spike propagates down the axon and induces a synaptic event onto the dendrite of the target cell with some delay. We can therefore connect a spike detector in the soma of the presynaptic cell that triggers a synaptic event in the target cell via a **NetCon**."
   ]
  },
  {
   "cell_type": "code",
   "execution_count": 18,
   "metadata": {},
   "outputs": [],
   "source": [
    "syns = []\n",
    "netcons = []\n",
    "for source, target in zip(my_cells, my_cells[1:] + [my_cells[0]]):\n",
    "    syn = h.ExpSyn(target.dend(0.5))\n",
    "    nc = h.NetCon(source.soma(0.5)._ref_v, syn, sec=source.soma)\n",
    "    nc.weight[0] = 0.05\n",
    "    nc.delay = 3 * ms\n",
    "    netcons.append(nc)\n",
    "    syns.append(syn)"
   ]
  },
  {
   "cell_type": "code",
   "execution_count": 19,
   "metadata": {},
   "outputs": [
    {
     "name": "stdout",
     "output_type": "stream",
     "text": [
      "[NetCon[1], NetCon[2], NetCon[3], NetCon[4], NetCon[5]]\n",
      "[ExpSyn[1], ExpSyn[2], ExpSyn[3], ExpSyn[4], ExpSyn[5]]\n"
     ]
    }
   ],
   "source": [
    "print(netcons)\n",
    "print(syns)"
   ]
  },
  {
   "cell_type": "code",
   "execution_count": 20,
   "metadata": {},
   "outputs": [
    {
     "data": {
      "image/png": "[encoded data removed]",
      "text/plain": [
       "<Figure size 432x288 with 1 Axes>"
      ]
     },
     "metadata": {
      "needs_background": "light"
     },
     "output_type": "display_data"
    }
   ],
   "source": [
    "h.finitialize(-65 * mV)\n",
    "h.continuerun(100 * ms)\n",
    "plt.plot(t, soma_v, label='soma(0.5)')\n",
    "plt.plot(t, dend_v, label='dend(0.5)')\n",
    "plt.legend()\n",
    "plt.show()"
   ]
  },
  {
   "cell_type": "markdown",
   "metadata": {},
   "source": [
    "Here we of course plotting only one cell, but the fact that it spikes more than once suggest that spikes are being transmitted throughout the network <br>\n",
    "We can ask of our existing `NetCon` to record spike times in NEURON `Vector` objects using `NetCon.record`"
   ]
  },
  {
   "cell_type": "code",
   "execution_count": 21,
   "metadata": {},
   "outputs": [],
   "source": [
    "spike_times = [h.Vector() for nc in netcons]\n",
    "for nc, spike_times_vec in zip(netcons, spike_times):\n",
    "    nc.record(spike_times_vec)"
   ]
  },
  {
   "cell_type": "code",
   "execution_count": 22,
   "metadata": {},
   "outputs": [
    {
     "data": {
      "text/plain": [
       "0.0"
      ]
     },
     "execution_count": 22,
     "metadata": {},
     "output_type": "execute_result"
    }
   ],
   "source": [
    "h.finitialize(-65 * mV)\n",
    "h.continuerun(100 * ms)"
   ]
  },
  {
   "cell_type": "code",
   "execution_count": 23,
   "metadata": {},
   "outputs": [
    {
     "name": "stdout",
     "output_type": "stream",
     "text": [
      "cell 0: [10.925000000099914, 33.575000000099074, 56.20000000010422, 78.82500000010936]\n",
      "cell 1: [15.450000000099656, 38.1000000001001, 60.72500000010525, 83.35000000011038]\n",
      "cell 2: [19.9750000000994, 42.62500000010113, 65.25000000010627, 87.87500000011141]\n",
      "cell 3: [24.500000000099142, 47.15000000010216, 69.7750000001073, 92.40000000011244]\n",
      "cell 4: [29.025000000098885, 51.67500000010319, 74.30000000010833, 96.92500000011347]\n"
     ]
    }
   ],
   "source": [
    "for i, spike_times_vec in enumerate(spike_times):\n",
    "    print('cell {}: {}'.format(i, list(spike_times_vec)))"
   ]
  },
  {
   "cell_type": "code",
   "execution_count": 24,
   "metadata": {},
   "outputs": [
    {
     "data": {
      "image/png": "[encoded data removed]",
      "text/plain": [
       "<Figure size 432x288 with 1 Axes>"
      ]
     },
     "metadata": {
      "needs_background": "light"
     },
     "output_type": "display_data"
    }
   ],
   "source": [
    "plt.figure()\n",
    "\n",
    "for i, spike_times_vec in enumerate(spike_times):\n",
    "    plt.vlines(spike_times_vec, i + 0.5, i + 1.5)\n",
    "plt.show()"
   ]
  }
 ],
 "metadata": {
  "kernelspec": {
   "display_name": "Python 3",
   "language": "python",
   "name": "python3"
  },
  "language_info": {
   "codemirror_mode": {
    "name": "ipython",
    "version": 3
   },
   "file_extension": ".py",
   "mimetype": "text/x-python",
   "name": "python",
   "nbconvert_exporter": "python",
   "pygments_lexer": "ipython3",
   "version": "3.8.3"
  }
 },
 "nbformat": 4,
 "nbformat_minor": 4
}
